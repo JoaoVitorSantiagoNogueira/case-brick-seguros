{
  "nbformat": 4,
  "nbformat_minor": 0,
  "metadata": {
    "colab": {
      "provenance": [],
      "authorship_tag": "ABX9TyPsSny9V+ajyRyPjwGuPCag",
      "include_colab_link": true
    },
    "kernelspec": {
      "name": "python3",
      "display_name": "Python 3"
    },
    "language_info": {
      "name": "python"
    }
  },
  "cells": [
    {
      "cell_type": "markdown",
      "metadata": {
        "id": "view-in-github",
        "colab_type": "text"
      },
      "source": [
        "<a href=\"https://colab.research.google.com/github/JoaoVitorSantiagoNogueira/case-brick-seguros/blob/main/main.ipynb\" target=\"_parent\"><img src=\"https://colab.research.google.com/assets/colab-badge.svg\" alt=\"Open In Colab\"/></a>"
      ]
    },
    {
      "cell_type": "markdown",
      "source": [
        "# Extração\n",
        "Aqui nós extraimos os dados da internet dos carros"
      ],
      "metadata": {
        "id": "VqFhdJ5SqBVD"
      }
    },
    {
      "cell_type": "code",
      "source": [
        "import requests"
      ],
      "metadata": {
        "id": "8XbDVRyxs0_4"
      },
      "execution_count": 1,
      "outputs": []
    },
    {
      "cell_type": "markdown",
      "source": [
        "## Extrair todos os cógidos FIPE"
      ],
      "metadata": {
        "id": "xhEgwOStr1vj"
      }
    },
    {
      "cell_type": "code",
      "source": [],
      "metadata": {
        "id": "H3PKh57drwvt"
      },
      "execution_count": null,
      "outputs": []
    },
    {
      "cell_type": "markdown",
      "source": [
        "## Pegar Informações de Veiculo"
      ],
      "metadata": {
        "id": "i6W99dx9r6kT"
      }
    },
    {
      "cell_type": "code",
      "execution_count": 7,
      "metadata": {
        "id": "Q8476Wbvn4Xo"
      },
      "outputs": [],
      "source": [
        "# https://brasilapi.com.br/api/fipe/preco/v1/038003-2  Últimos números são o código fipe\n",
        "\n",
        "def get_json_from_fipe(Codigo_FIPE):\n",
        "  response = requests.get(\"https://brasilapi.com.br/api/fipe/preco/v1/\" + Codigo_FIPE)\n",
        "  return response.json()\n"
      ]
    },
    {
      "cell_type": "code",
      "source": [
        "#sample\n",
        "get_json_from_fipe(\"038003-2\")"
      ],
      "metadata": {
        "colab": {
          "base_uri": "https://localhost:8080/"
        },
        "id": "9XX3nBqFu4O7",
        "outputId": "86f2b71d-4586-4ae1-a7cc-10ead0d99c4f"
      },
      "execution_count": 6,
      "outputs": [
        {
          "output_type": "execute_result",
          "data": {
            "text/plain": [
              "[{'valor': 'R$ 11.417,00',\n",
              "  'marca': 'Acura',\n",
              "  'modelo': 'Integra GS 1.8',\n",
              "  'anoModelo': 1992,\n",
              "  'combustivel': 'Gasolina',\n",
              "  'codigoFipe': '038003-2',\n",
              "  'mesReferencia': 'maio de 2024 ',\n",
              "  'tipoVeiculo': 1,\n",
              "  'siglaCombustivel': 'G',\n",
              "  'dataConsulta': 'sexta-feira, 10 de maio de 2024 19:52'},\n",
              " {'valor': 'R$ 10.665,00',\n",
              "  'marca': 'Acura',\n",
              "  'modelo': 'Integra GS 1.8',\n",
              "  'anoModelo': 1991,\n",
              "  'combustivel': 'Gasolina',\n",
              "  'codigoFipe': '038003-2',\n",
              "  'mesReferencia': 'maio de 2024 ',\n",
              "  'tipoVeiculo': 1,\n",
              "  'siglaCombustivel': 'G',\n",
              "  'dataConsulta': 'sexta-feira, 10 de maio de 2024 19:52'}]"
            ]
          },
          "metadata": {},
          "execution_count": 6
        }
      ]
    }
  ]
}